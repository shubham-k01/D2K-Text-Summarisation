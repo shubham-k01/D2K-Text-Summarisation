{
  "nbformat": 4,
  "nbformat_minor": 0,
  "metadata": {
    "colab": {
      "provenance": [],
      "authorship_tag": "ABX9TyNJQo4knKByowGiOWtK8VGy",
      "include_colab_link": true
    },
    "kernelspec": {
      "name": "python3",
      "display_name": "Python 3"
    },
    "language_info": {
      "name": "python"
    }
  },
  "cells": [
    {
      "cell_type": "markdown",
      "metadata": {
        "id": "view-in-github",
        "colab_type": "text"
      },
      "source": [
        "<a href=\"https://colab.research.google.com/github/shubham-k01/D2K-Text-Summarisation/blob/main/D2K_Dataset.ipynb\" target=\"_parent\"><img src=\"https://colab.research.google.com/assets/colab-badge.svg\" alt=\"Open In Colab\"/></a>"
      ]
    },
    {
      "cell_type": "code",
      "execution_count": null,
      "metadata": {
        "colab": {
          "base_uri": "https://localhost:8080/"
        },
        "id": "P1eejOkiXcIS",
        "outputId": "3c04aa3a-dc82-402d-f526-1408d4335ce8"
      },
      "outputs": [
        {
          "output_type": "stream",
          "name": "stdout",
          "text": [
            "https://pubs.acs.org/doi/10.1021/acs.chemrev.1c00107\n",
            "\n",
            "https://downloads.hindawi.com/journals/cin/2022/5624475.pdf\n",
            "\n",
            "https://pubs.acs.org/doi/pdf/10.1021/acssynbio.2c00015\n",
            "\n",
            "https://downloads.hindawi.com/journals/cin/2022/5624475.pdf\n",
            "\n",
            "https://link.springer.com/article/10.1007/s11023-021-09573-8\n",
            "\n",
            "https://journals.plos.org/plosone/article/file?id=10.1371/journal.pone.0237749&type=printable\n",
            "\n",
            "https://www.mdpi.com/2079-4991/12/15/2646\n",
            "\n",
            "https://pubs.acs.org/doi/10.1021/acs.chemrev.0c00004\n",
            "\n",
            "https://www.hindawi.com/journals/jhe/2022/4653923/\n",
            "\n",
            "https://www.mdpi.com/1660-4601/19/22/15027\n",
            "\n",
            "https://www.nature.com/articles/s41598-021-84637-4\n",
            "\n",
            "https://onlinelibrary.wiley.com/doi/10.1111/1754-9485.13274\n",
            "\n",
            "https://www.mdpi.com/1424-8220/22/23/9148\n",
            "\n",
            "https://www.frontiersin.org/articles/10.3389/fnagi.2021.633752/full\n",
            "\n",
            "https://pubs.asahq.org/anesthesiology/article/132/2/379/108833/Artificial-Intelligence-in-AnesthesiologyCurrent\n",
            "\n",
            "https://www.mdpi.com/2072-6694/14/6/1524\n",
            "\n",
            "https://translational-medicine.biomedcentral.com/articles/10.1186/s12967-022-03666-3\n",
            "\n",
            "https://onlinelibrary.wiley.com/doi/10.1111/jan.14855\n",
            "\n",
            "https://www.frontiersin.org/articles/10.3389/fpsyg.2022.898107/full\n",
            "\n",
            "https://www.nature.com/articles/nrc.2017.69\n",
            "\n",
            "https://www.mdpi.com/1422-0067/23/12/6813\n",
            "\n",
            "https://acsjournals.onlinelibrary.wiley.com/doi/full/10.3322/caac.21405\n",
            "\n",
            "https://acsjournals.onlinelibrary.wiley.com/doi/10.1002/cncr.32887\n",
            "\n",
            "https://onlinelibrary.wiley.com/doi/10.1002/ijc.32892\n"
          ]
        }
      ],
      "source": [
        "with open('/content/PS3_Dataset.txt') as f:\n",
        "  l = f.read()\n",
        "  # l = l.replace(' ',',')\n",
        "  print(l)"
      ]
    },
    {
      "cell_type": "code",
      "source": [
        "!pip install metapub"
      ],
      "metadata": {
        "colab": {
          "base_uri": "https://localhost:8080/"
        },
        "id": "AY2Sci_eX1-G",
        "outputId": "1e0de3f4-d405-4067-bab0-6fc7c175f27f"
      },
      "execution_count": null,
      "outputs": [
        {
          "output_type": "stream",
          "name": "stdout",
          "text": [
            "Looking in indexes: https://pypi.org/simple, https://us-python.pkg.dev/colab-wheels/public/simple/\n",
            "Requirement already satisfied: metapub in /usr/local/lib/python3.8/dist-packages (0.5.5)\n",
            "Requirement already satisfied: cssselect in /usr/local/lib/python3.8/dist-packages (from metapub) (1.2.0)\n",
            "Requirement already satisfied: eutils in /usr/local/lib/python3.8/dist-packages (from metapub) (0.6.0)\n",
            "Requirement already satisfied: tabulate in /usr/local/lib/python3.8/dist-packages (from metapub) (0.8.10)\n",
            "Requirement already satisfied: lxml in /usr/local/lib/python3.8/dist-packages (from metapub) (4.9.2)\n",
            "Requirement already satisfied: pytest in /usr/local/lib/python3.8/dist-packages (from metapub) (3.6.4)\n",
            "Requirement already satisfied: six in /usr/local/lib/python3.8/dist-packages (from metapub) (1.15.0)\n",
            "Requirement already satisfied: coloredlogs in /usr/local/lib/python3.8/dist-packages (from metapub) (15.0.1)\n",
            "Requirement already satisfied: setuptools in /usr/local/lib/python3.8/dist-packages (from metapub) (57.4.0)\n",
            "Requirement already satisfied: docopt in /usr/local/lib/python3.8/dist-packages (from metapub) (0.6.2)\n",
            "Requirement already satisfied: python-Levenshtein in /usr/local/lib/python3.8/dist-packages (from metapub) (0.20.9)\n",
            "Requirement already satisfied: habanero in /usr/local/lib/python3.8/dist-packages (from metapub) (1.2.3)\n",
            "Requirement already satisfied: requests in /usr/local/lib/python3.8/dist-packages (from metapub) (2.25.1)\n",
            "Requirement already satisfied: tox in /usr/local/lib/python3.8/dist-packages (from metapub) (3.12.1)\n",
            "Requirement already satisfied: unidecode in /usr/local/lib/python3.8/dist-packages (from metapub) (1.3.6)\n",
            "Requirement already satisfied: humanfriendly>=9.1 in /usr/local/lib/python3.8/dist-packages (from coloredlogs->metapub) (10.0)\n",
            "Requirement already satisfied: pytz in /usr/local/lib/python3.8/dist-packages (from eutils->metapub) (2022.7.1)\n",
            "Requirement already satisfied: tqdm in /usr/local/lib/python3.8/dist-packages (from habanero->metapub) (4.64.1)\n",
            "Requirement already satisfied: certifi>=2017.4.17 in /usr/local/lib/python3.8/dist-packages (from requests->metapub) (2022.12.7)\n",
            "Requirement already satisfied: urllib3<1.27,>=1.21.1 in /usr/local/lib/python3.8/dist-packages (from requests->metapub) (1.24.3)\n",
            "Requirement already satisfied: chardet<5,>=3.0.2 in /usr/local/lib/python3.8/dist-packages (from requests->metapub) (4.0.0)\n",
            "Requirement already satisfied: idna<3,>=2.5 in /usr/local/lib/python3.8/dist-packages (from requests->metapub) (2.10)\n",
            "Requirement already satisfied: attrs>=17.4.0 in /usr/local/lib/python3.8/dist-packages (from pytest->metapub) (22.2.0)\n",
            "Requirement already satisfied: py>=1.5.0 in /usr/local/lib/python3.8/dist-packages (from pytest->metapub) (1.11.0)\n",
            "Requirement already satisfied: more-itertools>=4.0.0 in /usr/local/lib/python3.8/dist-packages (from pytest->metapub) (9.0.0)\n",
            "Requirement already satisfied: pluggy<0.8,>=0.5 in /usr/local/lib/python3.8/dist-packages (from pytest->metapub) (0.7.1)\n",
            "Requirement already satisfied: atomicwrites>=1.0 in /usr/local/lib/python3.8/dist-packages (from pytest->metapub) (1.4.1)\n",
            "Requirement already satisfied: Levenshtein==0.20.9 in /usr/local/lib/python3.8/dist-packages (from python-Levenshtein->metapub) (0.20.9)\n",
            "Requirement already satisfied: rapidfuzz<3.0.0,>=2.3.0 in /usr/local/lib/python3.8/dist-packages (from Levenshtein==0.20.9->python-Levenshtein->metapub) (2.13.7)\n",
            "Requirement already satisfied: toml>=0.9.4 in /usr/local/lib/python3.8/dist-packages (from tox->metapub) (0.10.2)\n",
            "Requirement already satisfied: virtualenv>=14.0.0 in /usr/local/lib/python3.8/dist-packages (from tox->metapub) (20.19.0)\n",
            "Requirement already satisfied: filelock<4,>=3.0.0 in /usr/local/lib/python3.8/dist-packages (from tox->metapub) (3.9.0)\n",
            "Requirement already satisfied: platformdirs<4,>=2.4 in /usr/local/lib/python3.8/dist-packages (from virtualenv>=14.0.0->tox->metapub) (3.0.0)\n",
            "Requirement already satisfied: distlib<1,>=0.3.6 in /usr/local/lib/python3.8/dist-packages (from virtualenv>=14.0.0->tox->metapub) (0.3.6)\n"
          ]
        }
      ]
    },
    {
      "cell_type": "code",
      "source": [
        "NCBI_API_KEY= '542e5c51b595a54f0089ff5b8ad5ddf1cb09 '"
      ],
      "metadata": {
        "id": "4vv_8JMoauSB"
      },
      "execution_count": null,
      "outputs": []
    },
    {
      "cell_type": "code",
      "source": [
        "!pip install biopython"
      ],
      "metadata": {
        "colab": {
          "base_uri": "https://localhost:8080/"
        },
        "id": "JgOOtIuDcQXu",
        "outputId": "4cc618e5-92c9-44ca-fc0f-e2844401c015"
      },
      "execution_count": null,
      "outputs": [
        {
          "output_type": "stream",
          "name": "stdout",
          "text": [
            "Looking in indexes: https://pypi.org/simple, https://us-python.pkg.dev/colab-wheels/public/simple/\n",
            "Collecting biopython\n",
            "  Downloading biopython-1.81-cp38-cp38-manylinux_2_17_x86_64.manylinux2014_x86_64.whl (3.1 MB)\n",
            "\u001b[2K     \u001b[90m━━━━━━━━━━━━━━━━━━━━━━━━━━━━━━━━━━━━━━━━\u001b[0m \u001b[32m3.1/3.1 MB\u001b[0m \u001b[31m44.7 MB/s\u001b[0m eta \u001b[36m0:00:00\u001b[0m\n",
            "\u001b[?25hRequirement already satisfied: numpy in /usr/local/lib/python3.8/dist-packages (from biopython) (1.21.6)\n",
            "Installing collected packages: biopython\n",
            "Successfully installed biopython-1.81\n"
          ]
        }
      ]
    },
    {
      "cell_type": "code",
      "source": [
        "from Bio import Medline\n",
        "import pandas as pd\n",
        "from tqdm import tqdm"
      ],
      "metadata": {
        "id": "pz4pd8yUijMI"
      },
      "execution_count": null,
      "outputs": []
    },
    {
      "cell_type": "code",
      "source": [
        "data = []\n",
        "with open('/content/pubmed-healthcare-set.txt',encoding='utf-8') as f:\n",
        "  pmids = Medline.parse(f)\n",
        "  for pmid in pmids:\n",
        "    try:\n",
        "      pid = pmid['PMID']\n",
        "    except:\n",
        "      pid = ''\n",
        "    try:\n",
        "      title = pmid['TI']\n",
        "    except:\n",
        "      title = ''\n",
        "    try:\n",
        "      abstract = pmid['AB']\n",
        "    except:\n",
        "      abstract = ''\n",
        "    \n",
        "    sample = {\n",
        "        'PMID':pid,\n",
        "        'Title':title,\n",
        "        'Abstract':abstract\n",
        "    }\n",
        "    data.append(sample)\n",
        "\n",
        "print(data)"
      ],
      "metadata": {
        "colab": {
          "base_uri": "https://localhost:8080/"
        },
        "id": "mmrbxp-Bi9c7",
        "outputId": "122645ad-eeff-4bf1-cbaa-a68eed09fce0"
      },
      "execution_count": null,
      "outputs": [
        {
          "output_type": "stream",
          "name": "stdout",
          "text": [
            "[{'PMID': '32336480', 'Title': 'The Importance of Diversity and Inclusion in the Healthcare Workforce.', 'Abstract': 'BACKGROUND: Diversity and inclusion are terms that have been used widely in a variety of contexts, but these concepts have only been intertwined into the discussion in healthcare in the recent past. It is important to have a healthcare workforce which represents the tapestry of our communities as it relates to race/ethnicity, gender, sexual orientation, immigration status, physical disability status, and socioeconomic level to render the best possible care to our diverse patient populations. METHODS: We explore efforts by the Liaison Committee on Medical Education (LCME), the Institute of Medicine (IOM), and other medical organizations to improve diversity and inclusion in medicine. CONCLUSION: Finally, we report on best practices, frameworks, and strategies which have been utilized to improve diversity and inclusion in healthcare.'}, {'PMID': '31550922', 'Title': 'Artificial intelligence in healthcare: An essential guide for health leaders.', 'Abstract': 'Artificial Intelligence (AI) is evolving rapidly in healthcare, and various AI applications have been developed to solve some of the most pressing problems that health organizations currently face. It is crucial for health leaders to understand the state of AI technologies and the ways that such technologies can be used to improve the efficiency, safety, and access of health services, achieving value-based care. This article provides a guide to understand the fundamentals of AI technologies (ie, machine learning, natural language processing, and AI voice assistants) as well as their proper use in healthcare. It also provides practical recommendations to help decision-makers develop an AI strategy that can support their digital healthcare transformation.'}, {'PMID': '35670616', 'Title': 'Healthcare Compensation Plans: Current Challenges and Novel Approaches.', 'Abstract': \"The US healthcare sector differs from others, particularly with regard to how its workforce is compensated. In healthcare's third-party payer system, the consumer (i.e., the patient) typically is not the one paying for the service. Moreover, the payment for a given service is negotiated by the provider and the third-party payer before the patient ever seeks care-and the payment for the same service may differ among payers and patients. To further complicate matters, myriad overlapping federal, state, and local statutes and regulations govern how providers interact with patients and each other. The challenges with compensating physicians have been amplified by the healthcare workforce shortage that was looming even before the onset of the COVID-19 pandemic. In light of these various forces in the healthcare industry, this article reviews the current ways healthcare providers are compensated and the challenges with those compensation plans. Potential approaches to remedy those challenges are described, both broadly and with specific real-world examples related to primary care and surgical specialties. Lessons learned from these approaches include ways that healthcare organizations may measure the success of a compensation plan.\"}, {'PMID': '31732680', 'Title': \"What does 'quality' add? Towards an ethics of healthcare improvement.\", 'Abstract': \"In this paper, we argue that there are important ethical questions about healthcare improvement which are underexplored. We start by drawing on two existing literatures: first, the prevailing, primarily governance-oriented, application of ethics to healthcare 'quality improvement' (QI), and second, the application of QI to healthcare ethics. We show that these are insufficient for ethical analysis of healthcare improvement. In pursuit of a broader agenda for an ethics of healthcare improvement, we note that QI and ethics can, in some respects, be treated as closely related concerns and not simply as externally related agendas. To support our argument, we explore the gap between 'quality' and 'ethics' discourses and ask about the possible differences between 'good quality healthcare' and 'good healthcare'. We suggest that the word 'quality' both adds to and subtracts from the idea of 'good healthcare', and in particular that the technicist inflection of quality discourses needs to be set in the context of broader conceptualisations of healthcare improvement. We introduce the distinction between quality as a measurable property and quality as an evaluative judgement, suggesting that a core, but neglected, question for an ethics of healthcare improvement is striking the balance between these two conceptions of quality.\"}, {'PMID': '36495531', 'Title': 'Healthcare Reform Is Not Yet on the Horizon.', 'Abstract': 'Healthcare reform is on everyone\\'s lips these days. persistent calls for a \"difference\" and \"change\" are becoming louder. But will these calls reach a tipping point and precipitate fundamental changes in how provinces design healthcare delivery and how they pay for it?'}, {'PMID': '33846028', 'Title': 'Integrating planetary health into healthcare: A document analysis.', 'Abstract': \"BACKGROUND: Anthropogenic climate change poses a major health risk to humankind. The healthcare sector both contributes to climate change and is vulnerable to its impacts. Healthcare's greenhouse gas emissions are primarily derived from its supply chain: the production, transport, and disposal of goods. METHODS: Document analysis was used to investigate the workplace policies of one large, Western Canadian healthcare organization. Policies that indicated how employees should engage with resources were reviewed through the lens of environmentally responsible practice and planetary health. Content and thematic analysis were applied. RESULTS: Four themes were identified: procurement of resources, resource utilization, resource conservation, and waste management. CONCLUSION: There was little evidence of environmental or climate impact consideration within the organization's policies. IMPLICATIONS: Healthcare organizations could benefit from integrating a planetary health perspective into their policies to deliver healthcare that considers the health and safety of both humans and the climate.\"}, {'PMID': '33386675', 'Title': \"A systematic review of healthcare professionals' core competency instruments.\", 'Abstract': \"While technical and profession-specific competencies are paramount in the delivery of healthcare services, the cross-cutting core competencies of healthcare professionals play an important role in healthcare transformation, innovation, and the integration of roles. This systematic review describes the characteristics and psychometric properties of existing instruments for assessing healthcare professionals' core competencies in clinical settings. It was guided by the JBI methodology and used the COSMIN checklist (Mokkink et al., User manual, 2018, 78, 1) to evaluate the methodological quality of the included studies. A database search (CINAHL, Scopus, and PubMed) and additional manual search were undertaken for peer-reviewed papers with abstracts, published in English between 2008 and 2019. The search identified nine studies that were included in the synthesis demonstrating core competencies in professionalism, ethical and legal issues, research and evidence-based practice, personal and professional development, teamwork and collaboration, leadership and management, and patient-centered care. Few instruments addressed competencies in quality improvement, safety, communication, or health information technology. The findings demonstrate the reviewed tools' validity and reliability and pave the way for a comprehensive evaluation and assessment of core competencies into clinical practice.\"}, {'PMID': '34232148', 'Title': 'What can a learning healthcare system teach us about improving outcomes?', 'Abstract': 'PURPOSE OF REVIEW: This review describes the learning healthcare system paradigm, recent examples, and future directions. Patients, clinicians, and health systems frequently encounter decisions between available treatments, technologies, and healthcare delivery methods with little or no evidence about the comparative effectiveness and safety of the available options. Learning healthcare systems endeavor to recognize such knowledge gaps, integrate comparative effectiveness research - including clinical trials - into clinical care to address the knowledge gaps, and seamlessly implement the results into practice to improve care and patient outcomes. RECENT FINDINGS: Recent studies comparing the effectiveness of diagnostic tests and treatments, using information technology to identify patients likely to experience an outcome or benefit from an intervention, and evaluating models of healthcare delivery have demonstrated how a learning healthcare system approach can reduce arbitrary variation in care, decrease cost, and improve patient outcomes. SUMMARY: Learning healthcare systems have the potential to answer questions of importance to patients, clinicians, and health system leaders, improve efficiency of healthcare delivery, and improve patient outcomes. Achieving this goal will require realignment of the culture around clinical care, institutional and federal investment, expanded stakeholder engagement, tailored ethical and regulatory guidance, and methodologic advances in information technology and biostatistics.'}, {'PMID': '33995804', 'Title': 'Challenges in healthcare financing for surgery in sub-Saharan Africa.', 'Abstract': \"One-third of the global burden of disease is attributed to surgical conditions yet, 5 billion people globally, lack access to surgery. The Lancet Commission on Global Surgery, Obstetrics, and Anesthesia (LCOGS) published guidelines for improving access by reducing catastrophic health expenditures (CHEs) by 2030. This is especially important in sub-Saharan Africa (SSA) where 90% of the extreme poor reside. In this paper, we provide a narrative review of four studies on CHEs for surgical care in SSA published since 2015. We discuss healthcare financing in the countries and summarize the authors' key findings of out-of-pocket payments (OOP) and CHEs. Briefly, the studies enrolled 130 to 300 patients and collected direct OOPs via chart review of health costs or patient interviews. Indirect costs were calculated from lost wages and transportation costs. CHEs were defined as health costs exceeding 10% of the GDP per capita or the household income. Despite healthcare being reported as free in all studies, 60%-90% of surgical patients had CHEs with all costs considered. OOPs persists for medicines and anesthesia that should be covered under any health insurance scheme. In some cases, indirect costs associated with transportation and wages were major drivers of CHEs for surgery. Without addressing these gaps in coverage, more people will risk impoverishment in seeking surgical care in SSA.\"}, {'PMID': '36194519', 'Title': 'Achieving sustainable healthcare through deprescribing.', 'Abstract': ''}]\n"
          ]
        }
      ]
    },
    {
      "cell_type": "code",
      "source": [
        "!pip install sqlitedict"
      ],
      "metadata": {
        "colab": {
          "base_uri": "https://localhost:8080/"
        },
        "id": "yJrhyFC1oH96",
        "outputId": "3ebc2639-3e84-434c-85af-d1a857ae81c3"
      },
      "execution_count": null,
      "outputs": [
        {
          "output_type": "stream",
          "name": "stdout",
          "text": [
            "Looking in indexes: https://pypi.org/simple, https://us-python.pkg.dev/colab-wheels/public/simple/\n",
            "Collecting sqlitedict\n",
            "  Downloading sqlitedict-2.1.0.tar.gz (21 kB)\n",
            "  Preparing metadata (setup.py) ... \u001b[?25l\u001b[?25hdone\n",
            "Building wheels for collected packages: sqlitedict\n",
            "  Building wheel for sqlitedict (setup.py) ... \u001b[?25l\u001b[?25hdone\n",
            "  Created wheel for sqlitedict: filename=sqlitedict-2.1.0-py3-none-any.whl size=16869 sha256=3015c829e48bb5a10ddae9005076dbe05bec1660a54ed17215dc53963730ce7c\n",
            "  Stored in directory: /root/.cache/pip/wheels/04/c6/16/46e174009277f9bccdaa7215a243939d2f70180804b249bf3a\n",
            "Successfully built sqlitedict\n",
            "Installing collected packages: sqlitedict\n",
            "Successfully installed sqlitedict-2.1.0\n"
          ]
        }
      ]
    },
    {
      "cell_type": "code",
      "source": [
        "df = pd.DataFrame(data)"
      ],
      "metadata": {
        "id": "0Txxx4bPlp1l"
      },
      "execution_count": null,
      "outputs": []
    },
    {
      "cell_type": "code",
      "source": [
        "df"
      ],
      "metadata": {
        "colab": {
          "base_uri": "https://localhost:8080/",
          "height": 363
        },
        "id": "a28NRIspl4Sh",
        "outputId": "e2055d72-a5b6-4dd5-f99c-f940f3482ac2"
      },
      "execution_count": null,
      "outputs": [
        {
          "output_type": "execute_result",
          "data": {
            "text/plain": [
              "       PMID                                              Title  \\\n",
              "0  32336480  The Importance of Diversity and Inclusion in t...   \n",
              "1  31550922  Artificial intelligence in healthcare: An esse...   \n",
              "2  35670616  Healthcare Compensation Plans: Current Challen...   \n",
              "3  31732680  What does 'quality' add? Towards an ethics of ...   \n",
              "4  36495531       Healthcare Reform Is Not Yet on the Horizon.   \n",
              "5  33846028  Integrating planetary health into healthcare: ...   \n",
              "6  33386675  A systematic review of healthcare professional...   \n",
              "7  34232148  What can a learning healthcare system teach us...   \n",
              "8  33995804  Challenges in healthcare financing for surgery...   \n",
              "9  36194519  Achieving sustainable healthcare through depre...   \n",
              "\n",
              "                                            Abstract  \n",
              "0  BACKGROUND: Diversity and inclusion are terms ...  \n",
              "1  Artificial Intelligence (AI) is evolving rapid...  \n",
              "2  The US healthcare sector differs from others, ...  \n",
              "3  In this paper, we argue that there are importa...  \n",
              "4  Healthcare reform is on everyone's lips these ...  \n",
              "5  BACKGROUND: Anthropogenic climate change poses...  \n",
              "6  While technical and profession-specific compet...  \n",
              "7  PURPOSE OF REVIEW: This review describes the l...  \n",
              "8  One-third of the global burden of disease is a...  \n",
              "9                                                     "
            ],
            "text/html": [
              "\n",
              "  <div id=\"df-db015dfb-e429-4c92-8818-64d20e02ed5a\">\n",
              "    <div class=\"colab-df-container\">\n",
              "      <div>\n",
              "<style scoped>\n",
              "    .dataframe tbody tr th:only-of-type {\n",
              "        vertical-align: middle;\n",
              "    }\n",
              "\n",
              "    .dataframe tbody tr th {\n",
              "        vertical-align: top;\n",
              "    }\n",
              "\n",
              "    .dataframe thead th {\n",
              "        text-align: right;\n",
              "    }\n",
              "</style>\n",
              "<table border=\"1\" class=\"dataframe\">\n",
              "  <thead>\n",
              "    <tr style=\"text-align: right;\">\n",
              "      <th></th>\n",
              "      <th>PMID</th>\n",
              "      <th>Title</th>\n",
              "      <th>Abstract</th>\n",
              "    </tr>\n",
              "  </thead>\n",
              "  <tbody>\n",
              "    <tr>\n",
              "      <th>0</th>\n",
              "      <td>32336480</td>\n",
              "      <td>The Importance of Diversity and Inclusion in t...</td>\n",
              "      <td>BACKGROUND: Diversity and inclusion are terms ...</td>\n",
              "    </tr>\n",
              "    <tr>\n",
              "      <th>1</th>\n",
              "      <td>31550922</td>\n",
              "      <td>Artificial intelligence in healthcare: An esse...</td>\n",
              "      <td>Artificial Intelligence (AI) is evolving rapid...</td>\n",
              "    </tr>\n",
              "    <tr>\n",
              "      <th>2</th>\n",
              "      <td>35670616</td>\n",
              "      <td>Healthcare Compensation Plans: Current Challen...</td>\n",
              "      <td>The US healthcare sector differs from others, ...</td>\n",
              "    </tr>\n",
              "    <tr>\n",
              "      <th>3</th>\n",
              "      <td>31732680</td>\n",
              "      <td>What does 'quality' add? Towards an ethics of ...</td>\n",
              "      <td>In this paper, we argue that there are importa...</td>\n",
              "    </tr>\n",
              "    <tr>\n",
              "      <th>4</th>\n",
              "      <td>36495531</td>\n",
              "      <td>Healthcare Reform Is Not Yet on the Horizon.</td>\n",
              "      <td>Healthcare reform is on everyone's lips these ...</td>\n",
              "    </tr>\n",
              "    <tr>\n",
              "      <th>5</th>\n",
              "      <td>33846028</td>\n",
              "      <td>Integrating planetary health into healthcare: ...</td>\n",
              "      <td>BACKGROUND: Anthropogenic climate change poses...</td>\n",
              "    </tr>\n",
              "    <tr>\n",
              "      <th>6</th>\n",
              "      <td>33386675</td>\n",
              "      <td>A systematic review of healthcare professional...</td>\n",
              "      <td>While technical and profession-specific compet...</td>\n",
              "    </tr>\n",
              "    <tr>\n",
              "      <th>7</th>\n",
              "      <td>34232148</td>\n",
              "      <td>What can a learning healthcare system teach us...</td>\n",
              "      <td>PURPOSE OF REVIEW: This review describes the l...</td>\n",
              "    </tr>\n",
              "    <tr>\n",
              "      <th>8</th>\n",
              "      <td>33995804</td>\n",
              "      <td>Challenges in healthcare financing for surgery...</td>\n",
              "      <td>One-third of the global burden of disease is a...</td>\n",
              "    </tr>\n",
              "    <tr>\n",
              "      <th>9</th>\n",
              "      <td>36194519</td>\n",
              "      <td>Achieving sustainable healthcare through depre...</td>\n",
              "      <td></td>\n",
              "    </tr>\n",
              "  </tbody>\n",
              "</table>\n",
              "</div>\n",
              "      <button class=\"colab-df-convert\" onclick=\"convertToInteractive('df-db015dfb-e429-4c92-8818-64d20e02ed5a')\"\n",
              "              title=\"Convert this dataframe to an interactive table.\"\n",
              "              style=\"display:none;\">\n",
              "        \n",
              "  <svg xmlns=\"http://www.w3.org/2000/svg\" height=\"24px\"viewBox=\"0 0 24 24\"\n",
              "       width=\"24px\">\n",
              "    <path d=\"M0 0h24v24H0V0z\" fill=\"none\"/>\n",
              "    <path d=\"M18.56 5.44l.94 2.06.94-2.06 2.06-.94-2.06-.94-.94-2.06-.94 2.06-2.06.94zm-11 1L8.5 8.5l.94-2.06 2.06-.94-2.06-.94L8.5 2.5l-.94 2.06-2.06.94zm10 10l.94 2.06.94-2.06 2.06-.94-2.06-.94-.94-2.06-.94 2.06-2.06.94z\"/><path d=\"M17.41 7.96l-1.37-1.37c-.4-.4-.92-.59-1.43-.59-.52 0-1.04.2-1.43.59L10.3 9.45l-7.72 7.72c-.78.78-.78 2.05 0 2.83L4 21.41c.39.39.9.59 1.41.59.51 0 1.02-.2 1.41-.59l7.78-7.78 2.81-2.81c.8-.78.8-2.07 0-2.86zM5.41 20L4 18.59l7.72-7.72 1.47 1.35L5.41 20z\"/>\n",
              "  </svg>\n",
              "      </button>\n",
              "      \n",
              "  <style>\n",
              "    .colab-df-container {\n",
              "      display:flex;\n",
              "      flex-wrap:wrap;\n",
              "      gap: 12px;\n",
              "    }\n",
              "\n",
              "    .colab-df-convert {\n",
              "      background-color: #E8F0FE;\n",
              "      border: none;\n",
              "      border-radius: 50%;\n",
              "      cursor: pointer;\n",
              "      display: none;\n",
              "      fill: #1967D2;\n",
              "      height: 32px;\n",
              "      padding: 0 0 0 0;\n",
              "      width: 32px;\n",
              "    }\n",
              "\n",
              "    .colab-df-convert:hover {\n",
              "      background-color: #E2EBFA;\n",
              "      box-shadow: 0px 1px 2px rgba(60, 64, 67, 0.3), 0px 1px 3px 1px rgba(60, 64, 67, 0.15);\n",
              "      fill: #174EA6;\n",
              "    }\n",
              "\n",
              "    [theme=dark] .colab-df-convert {\n",
              "      background-color: #3B4455;\n",
              "      fill: #D2E3FC;\n",
              "    }\n",
              "\n",
              "    [theme=dark] .colab-df-convert:hover {\n",
              "      background-color: #434B5C;\n",
              "      box-shadow: 0px 1px 3px 1px rgba(0, 0, 0, 0.15);\n",
              "      filter: drop-shadow(0px 1px 2px rgba(0, 0, 0, 0.3));\n",
              "      fill: #FFFFFF;\n",
              "    }\n",
              "  </style>\n",
              "\n",
              "      <script>\n",
              "        const buttonEl =\n",
              "          document.querySelector('#df-db015dfb-e429-4c92-8818-64d20e02ed5a button.colab-df-convert');\n",
              "        buttonEl.style.display =\n",
              "          google.colab.kernel.accessAllowed ? 'block' : 'none';\n",
              "\n",
              "        async function convertToInteractive(key) {\n",
              "          const element = document.querySelector('#df-db015dfb-e429-4c92-8818-64d20e02ed5a');\n",
              "          const dataTable =\n",
              "            await google.colab.kernel.invokeFunction('convertToInteractive',\n",
              "                                                     [key], {});\n",
              "          if (!dataTable) return;\n",
              "\n",
              "          const docLinkHtml = 'Like what you see? Visit the ' +\n",
              "            '<a target=\"_blank\" href=https://colab.research.google.com/notebooks/data_table.ipynb>data table notebook</a>'\n",
              "            + ' to learn more about interactive tables.';\n",
              "          element.innerHTML = '';\n",
              "          dataTable['output_type'] = 'display_data';\n",
              "          await google.colab.output.renderOutput(dataTable, element);\n",
              "          const docLink = document.createElement('div');\n",
              "          docLink.innerHTML = docLinkHtml;\n",
              "          element.appendChild(docLink);\n",
              "        }\n",
              "      </script>\n",
              "    </div>\n",
              "  </div>\n",
              "  "
            ]
          },
          "metadata": {},
          "execution_count": 27
        }
      ]
    },
    {
      "cell_type": "code",
      "source": [
        "import csv\n",
        "import logging\n",
        "from multiprocessing.pool import ThreadPool\n",
        "from sys import stdin, stdout\n",
        "from time import perf_counter\n",
        "from typing import Iterator, List, Optional"
      ],
      "metadata": {
        "id": "j9h2FZAxoWEl"
      },
      "execution_count": null,
      "outputs": []
    },
    {
      "cell_type": "code",
      "source": [
        "from metapub import PubMedArticle, PubMedFetcher\n",
        "from sqlitedict import SqliteDict\n",
        "\n",
        "# shared by members of the ThreadPool \n",
        "article_cache = SqliteDict(\"pubmed_cache.db\", \"articles\")\n",
        "fetcher = PubMedFetcher()\n",
        "\n",
        "\n",
        "def fetch_article(pmid: str) -> PubMedArticle:\n",
        "    \"call fetcher.article_by_pmid with lots of logging statements\"\n",
        "    # log as this is going to take a non-trivial amount of time\n",
        "    logging.info(\"fetching article with pmid=%r\", pmid)\n",
        "\n",
        "    t0 = perf_counter()\n",
        "    article = fetcher.article_by_pmid(pmid)\n",
        "    dt = perf_counter() - t0\n",
        "    logging.info(\"fetched pmid=%s in %.3fms\", pmid, dt * 1000)\n",
        "\n",
        "    # check if we got the right thing back\n",
        "    if article.pmid != pmid:\n",
        "        logging.warning(\"article with pmid=%r returned pmid=%r\", pmid, article.pmid)\n",
        "\n",
        "    return article\n",
        "\n",
        "\n",
        "def fetch_article_cached(pmid: str) -> PubMedArticle:\n",
        "    \"\"\"cache XML of fetched articles so subsequent runs are faster.\n",
        "    errors are returned as None\n",
        "    \"\"\"\n",
        "    try:\n",
        "        xml = article_cache[pmid]\n",
        "    except KeyError:\n",
        "        # cached failed, continue below with fetching\n",
        "        pass\n",
        "    else:\n",
        "        # cache hit, parse it\n",
        "        return PubMedArticle(xml)\n",
        "\n",
        "    try:\n",
        "        article = fetch_article(pmid)\n",
        "    except Exception as err:\n",
        "        logging.warning(\"error fetching pmid=%r: %s\", pmid, err)\n",
        "        article = None\n",
        "\n",
        "    # save XML in cache for next time\n",
        "    article_cache[pmid] = article.xml\n",
        "    article_cache.commit()\n",
        "\n",
        "    return article\n",
        "\n",
        "\n",
        "def fetch_articles(\n",
        "    pmids: List[str], *, processes: Optional[int] = None\n",
        ") -> Iterator[PubMedArticle]:\n",
        "    \"use a threadpool to fetch articles from metapub in parallel, caching where possible\"\n",
        "    with ThreadPool(processes=processes) as pool:\n",
        "        for article in pool.imap_unordered(fetch_article_cached, pmids):\n",
        "            # couldn't be fetched\n",
        "            if article is None:\n",
        "                continue\n",
        "            yield article\n",
        "\n",
        "\n",
        "def main() -> None:\n",
        "    \"fetch articles by PMID from stdin and write to stdout in CSV format\"\n",
        "    pmids = stdin.read().split()\n",
        "\n",
        "    out = csv.writer(stdout)\n",
        "    first = True\n",
        "    for article in fetch_articles(pmids, processes=6):\n",
        "        row = dict(\n",
        "            pmid=article.pmid,\n",
        "            pmc=article.pmc,\n",
        "            doi=article.doi,\n",
        "            date=article.history[\"pubmed\"],\n",
        "            title=article.title,\n",
        "            authors=article.authors,\n",
        "            journal=article.journal,\n",
        "            abstract=article.abstract\n",
        "        )\n",
        "        if first:\n",
        "            out.writerow(row.keys())\n",
        "            first = False\n",
        "        out.writerow(row.values())\n",
        "\n",
        "\n",
        "if __name__ == \"__main__\":\n",
        "    logging.basicConfig(level=logging.DEBUG)\n",
        "    main()"
      ],
      "metadata": {
        "id": "diKkWCrOl41y"
      },
      "execution_count": null,
      "outputs": []
    },
    {
      "cell_type": "code",
      "source": [
        "main()"
      ],
      "metadata": {
        "id": "jULXu4XPoEuW"
      },
      "execution_count": null,
      "outputs": []
    },
    {
      "cell_type": "code",
      "source": [
        "pip install PyPDF2"
      ],
      "metadata": {
        "colab": {
          "base_uri": "https://localhost:8080/"
        },
        "id": "9pkhfJ0voZA2",
        "outputId": "72b001c2-b43b-4119-e522-29f4609f0a81"
      },
      "execution_count": null,
      "outputs": [
        {
          "output_type": "stream",
          "name": "stdout",
          "text": [
            "Looking in indexes: https://pypi.org/simple, https://us-python.pkg.dev/colab-wheels/public/simple/\n",
            "Collecting PyPDF2\n",
            "  Downloading pypdf2-3.0.1-py3-none-any.whl (232 kB)\n",
            "\u001b[2K     \u001b[90m━━━━━━━━━━━━━━━━━━━━━━━━━━━━━━━━━━━━━━━\u001b[0m \u001b[32m232.6/232.6 KB\u001b[0m \u001b[31m8.6 MB/s\u001b[0m eta \u001b[36m0:00:00\u001b[0m\n",
            "\u001b[?25hRequirement already satisfied: typing_extensions>=3.10.0.0 in /usr/local/lib/python3.8/dist-packages (from PyPDF2) (4.4.0)\n",
            "Installing collected packages: PyPDF2\n",
            "Successfully installed PyPDF2-3.0.1\n"
          ]
        }
      ]
    },
    {
      "cell_type": "code",
      "source": [
        "\n",
        "# importing required modules\n",
        "from PyPDF2 import PdfReader\n",
        " \n",
        "# creating a pdf reader object\n",
        "reader = PdfReader('sample.pdf')\n",
        " \n",
        "# printing number of pages in pdf file\n",
        "print(len(reader.pages))\n",
        " \n",
        "# getting a specific page from the pdf file\n",
        "page = reader.pages[0]\n",
        " \n",
        "# extracting text from page\n",
        "text = page.extract_text()\n",
        "print(text)"
      ],
      "metadata": {
        "colab": {
          "base_uri": "https://localhost:8080/"
        },
        "id": "Qxe2_0KcpgXl",
        "outputId": "aaf5bfa1-81d3-446e-e0a3-672e90c043ba"
      },
      "execution_count": null,
      "outputs": [
        {
          "output_type": "stream",
          "name": "stdout",
          "text": [
            "21\n",
            "Health Policy and Technology  10 (2021) 209–229  \n",
            "Contents  lists available  at ScienceDirect  \n",
            "Health  Policy  and Technology  \n",
            "journal  homepage:  www.elsevier.com/locate/hlpt  \n",
            "Literature  Review  \n",
            "Telemedicine  and health  policy:  A systematic  review  \n",
            "Clemens  Scott Kruse  ∗, Kelly Williams  1 , John Bohls  1 , Waleed  Shamsi  1 \n",
            "School of Health Administration,  Texas State University,  San Marcos, TX, United States \n",
            "a r t i c l e i n f o \n",
            "Article history: \n",
            "Available  online 29 October 2020 \n",
            "Keywords:  \n",
            "Health \n",
            "Policy \n",
            "Telemedicine  \n",
            "Access \n",
            "Health policy a b s t r a c t \n",
            "Background:  Telemedicine  diagnoses  and treats patients  remotely  via telecommunications  technology  all \n",
            "over the world. Telemedicine  becomes  more prevalent  as providers  recognize  the beneﬁts,  patients  re- \n",
            "ceive increased  access and payers see the reduction  in cost of care. \n",
            "Objective:  Telemedicine  studies have shown success in limiting  geographical  constraints,  time spent, and \n",
            "costs incurred  by patients  with positive  health outcomes  across medical  specialties.  The aim of this re- \n",
            "view is to evaluate  the implications  of telemedicine  and health policies.  \n",
            "Methods:  An assessment  of the literature  in four databases  was made on content  germane  to health \n",
            "policy implications  of telemedicine.  From the results of the search, 48 publications  were kept for analysis.  \n",
            "Results: The ﬁfteen facilitators  mentioned  most often were increased  access, increased  convenience,  im- \n",
            "proved population  health, care enabled  through  mobile technology,  self-eﬃcacy,  increased  patient-to-  \n",
            "provider  communication,  cost advantages,  eﬃcacy of modality,  increased  health outcomes,  reaches de- \n",
            "veloping  countries,  increased  quality, a positive  previous  experience,  and a secure means of care. The \n",
            "twelve barriers  mentioned  most often were the increased  cost to providers,  patient privacy,  technical  lit- \n",
            "eracy, state licensing,  data security,  socioeconomics,  limited reimbursements,  issues of interoperability,  \n",
            "patient safety, less personal  means of care, misaligned  incentives,  and ethical concerns.  \n",
            "Conclusions:  Telemedicine  has the potential  for growth and adoption,  however,  there are several implica-  \n",
            "tions and barriers  of health policy surrounding  telemedicine  that make it diﬃcult  to adopt. Policies will \n",
            "likely encourage  and incentivize  its spread and use. Future research  should focus on standardization  of \n",
            "telemedicine  and new policies  and incentives  that encourage  its use. \n",
            "©2 0 2 0 Fellowship  of Postgraduate  Medicine.  Published  by Elsevier  Ltd. \n",
            "This is an open access article under the CC BY-NC-ND  license \n",
            "( http://creativecommons.org/licenses/by-nc-nd/4.0/  ) \n",
            "Introduction  \n",
            "Rationale  \n",
            "Health policy and telemedicine  are heavily  intertwined  just as \n",
            "any innovation  needs to be regulated  for eﬃcacy  and safety, pay- \n",
            "ment models  need to be established  and implemented,  and privacy  \n",
            "and security  need to be maintained  [1–3] . With telemedicine  and \n",
            "new legislative  health policies,  outcomes  can be improved  with \n",
            "greater  eﬃciency  for both patient  and provider  [2–4] . This can be \n",
            "Abbreviations:  ACA, affordable  care act; CINAHL, cumulative  index of nursing \n",
            "and allied health literature;  HIT, health information  technology;  HITECH, health \n",
            "information  technology  for economic  and clinical health; MeSH, medical subject \n",
            "headings;  PRISMA, preferred  reporting  items for systematic  reviews and meta- \n",
            "analyses;  WHO, World Health Organization;  WoS, web of science. \n",
            "∗Corresponding  author at: School of Health Administration,  Texas State Univer- \n",
            "sity, 601 University  Dr, Encino Hall, Room 250, San Marcos, TX 78666, United States. \n",
            "E-mail address: scottkruse@txstate.edu  (C.S. Kruse). \n",
            "1 These authors contributed  equally. done by reaching  patients  in a more comfortable  setting,  removing  \n",
            "travel and time constraints,  while improving  the patient’s  health \n",
            "and experience.  Telemedicine  has been creeping  into the health-  \n",
            "care ﬁeld for decades,  but diffusion  of this innovation  will likely \n",
            "improve  with the implementation  of additional  health policy such \n",
            "as the Affordable  Care Act (ACA) and the Health Information  Tech- \n",
            "nology for Economic  and Clinical  Health (HITECH)  Act in Amer- \n",
            "ica which expanded  organizational  models  that use telemedicine  \n",
            "and broadened  reimbursement  mechanisms  for the same [5 , 6] . It \n",
            "is logical that providers  would examine  all options  of eﬃcacious  \n",
            "care and gravitate  to those that are cost effective,  but health pol- \n",
            "icy must enable the innovation,  establish  basic standards  of safety \n",
            "and security,  and reduce boundaries  to their adoption.  \n",
            "Telemedicine  alters the modality  of delivery  for healthcare.  \n",
            "Care is still provided  in a high-quality  manner,  but it is delivered  \n",
            "through  telecommunications  technology  [7] . This modality  be- \n",
            "comes easier and less costly with the spread of technology,  speciﬁ-  \n",
            "cally smartphones  [8] . Telemedicine  is the solution  to the problem  \n",
            "of proximate  distance  between  providers  and patients  with mobil- \n",
            "https://doi.org/10.1016/j.hlpt.2020.10.006  \n",
            "2211-8837/© 2020 Fellowship of Postgraduate Medicine. Published by Elsevier Ltd. This is an open access article under the CC BY-NC-ND license  \n",
            "( http://creativecommons.org/licenses/by-nc-nd/4.0/  ) \n"
          ]
        }
      ]
    },
    {
      "cell_type": "code",
      "source": [],
      "metadata": {
        "id": "NvRnQitIpwuy"
      },
      "execution_count": null,
      "outputs": []
    }
  ]
}